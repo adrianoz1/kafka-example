{
 "cells": [
  {
   "cell_type": "code",
   "execution_count": 1,
   "metadata": {},
   "outputs": [],
   "source": [
    "from kafka import KafkaConsumer as kc"
   ]
  },
  {
   "cell_type": "code",
   "execution_count": 2,
   "metadata": {},
   "outputs": [],
   "source": [
    "consumer = kc('messages', bootstrap_servers='localhost:9092', consumer_timeout_ms=1000, group_id='consumers')"
   ]
  },
  {
   "cell_type": "code",
   "execution_count": 7,
   "metadata": {},
   "outputs": [
    {
     "name": "stdout",
     "output_type": "stream",
     "text": [
      "Topic:  messages\n",
      "Partition:  0\n",
      "Key:  b'key 0 '\n",
      "Offset:  20\n",
      "Message:  b'Message 0.803695 '\n",
      "--------\n",
      "Topic:  messages\n",
      "Partition:  0\n",
      "Key:  b'key 1 '\n",
      "Offset:  21\n",
      "Message:  b'Message 0.489746 '\n",
      "--------\n",
      "Topic:  messages\n",
      "Partition:  0\n",
      "Key:  b'key 2 '\n",
      "Offset:  22\n",
      "Message:  b'Message 0.665840 '\n",
      "--------\n",
      "Topic:  messages\n",
      "Partition:  0\n",
      "Key:  b'key 3 '\n",
      "Offset:  23\n",
      "Message:  b'Message 0.030061 '\n",
      "--------\n",
      "Topic:  messages\n",
      "Partition:  0\n",
      "Key:  b'key 4 '\n",
      "Offset:  24\n",
      "Message:  b'Message 0.113167 '\n",
      "--------\n",
      "Topic:  messages\n",
      "Partition:  0\n",
      "Key:  b'key 5 '\n",
      "Offset:  25\n",
      "Message:  b'Message 0.449503 '\n",
      "--------\n",
      "Topic:  messages\n",
      "Partition:  0\n",
      "Key:  b'key 6 '\n",
      "Offset:  26\n",
      "Message:  b'Message 0.410545 '\n",
      "--------\n",
      "Topic:  messages\n",
      "Partition:  0\n",
      "Key:  b'key 7 '\n",
      "Offset:  27\n",
      "Message:  b'Message 0.257725 '\n",
      "--------\n",
      "Topic:  messages\n",
      "Partition:  0\n",
      "Key:  b'key 8 '\n",
      "Offset:  28\n",
      "Message:  b'Message 0.736068 '\n",
      "--------\n",
      "Topic:  messages\n",
      "Partition:  0\n",
      "Key:  b'key 9 '\n",
      "Offset:  29\n",
      "Message:  b'Message 0.983334 '\n",
      "--------\n"
     ]
    }
   ],
   "source": [
    "for message in consumer:\n",
    "    print(\"Topic: \", message.topic)\n",
    "    print(\"Partition: \", message.partition)\n",
    "    print(\"Key: \", message.key)\n",
    "    print(\"Offset: \", message.offset)\n",
    "    print(\"Message: \", message.value)\n",
    "    print(\"--------\")"
   ]
  }
 ],
 "metadata": {
  "kernelspec": {
   "display_name": "Python 3",
   "language": "python",
   "name": "python3"
  },
  "language_info": {
   "codemirror_mode": {
    "name": "ipython",
    "version": 3
   },
   "file_extension": ".py",
   "mimetype": "text/x-python",
   "name": "python",
   "nbconvert_exporter": "python",
   "pygments_lexer": "ipython3",
   "version": "3.11.6"
  }
 },
 "nbformat": 4,
 "nbformat_minor": 2
}
